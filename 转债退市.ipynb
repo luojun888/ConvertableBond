{
 "cells": [
  {
   "cell_type": "code",
   "execution_count": 1,
   "metadata": {},
   "outputs": [],
   "source": [
    "import json\n",
    "import requests\n",
    "import csv\n",
    "import re\n",
    "from lxml import etree"
   ]
  },
  {
   "cell_type": "code",
   "execution_count": 2,
   "metadata": {},
   "outputs": [],
   "source": [
    "import pandas as pd"
   ]
  },
  {
   "cell_type": "code",
   "execution_count": null,
   "metadata": {},
   "outputs": [],
   "source": []
  },
  {
   "cell_type": "code",
   "execution_count": 12,
   "metadata": {},
   "outputs": [],
   "source": [
    "acct=pd.read_csv(r'/home/junluo/Documents/stocklist.csv',dtype={'Stocks':str})"
   ]
  },
  {
   "cell_type": "code",
   "execution_count": 13,
   "metadata": {},
   "outputs": [
    {
     "data": {
      "text/html": [
       "<div>\n",
       "<style scoped>\n",
       "    .dataframe tbody tr th:only-of-type {\n",
       "        vertical-align: middle;\n",
       "    }\n",
       "\n",
       "    .dataframe tbody tr th {\n",
       "        vertical-align: top;\n",
       "    }\n",
       "\n",
       "    .dataframe thead th {\n",
       "        text-align: right;\n",
       "    }\n",
       "</style>\n",
       "<table border=\"1\" class=\"dataframe\">\n",
       "  <thead>\n",
       "    <tr style=\"text-align: right;\">\n",
       "      <th></th>\n",
       "      <th>Stocks</th>\n",
       "    </tr>\n",
       "  </thead>\n",
       "  <tbody>\n",
       "    <tr>\n",
       "      <th>0</th>\n",
       "      <td>000002</td>\n",
       "    </tr>\n",
       "    <tr>\n",
       "      <th>1</th>\n",
       "      <td>123067</td>\n",
       "    </tr>\n",
       "    <tr>\n",
       "      <th>2</th>\n",
       "      <td>123070</td>\n",
       "    </tr>\n",
       "    <tr>\n",
       "      <th>3</th>\n",
       "      <td>127018</td>\n",
       "    </tr>\n",
       "    <tr>\n",
       "      <th>4</th>\n",
       "      <td>127019</td>\n",
       "    </tr>\n",
       "    <tr>\n",
       "      <th>...</th>\n",
       "      <td>...</td>\n",
       "    </tr>\n",
       "    <tr>\n",
       "      <th>81</th>\n",
       "      <td>127027</td>\n",
       "    </tr>\n",
       "    <tr>\n",
       "      <th>82</th>\n",
       "      <td>123085</td>\n",
       "    </tr>\n",
       "    <tr>\n",
       "      <th>83</th>\n",
       "      <td>113569</td>\n",
       "    </tr>\n",
       "    <tr>\n",
       "      <th>84</th>\n",
       "      <td>128100</td>\n",
       "    </tr>\n",
       "    <tr>\n",
       "      <th>85</th>\n",
       "      <td>128062</td>\n",
       "    </tr>\n",
       "  </tbody>\n",
       "</table>\n",
       "<p>86 rows × 1 columns</p>\n",
       "</div>"
      ],
      "text/plain": [
       "    Stocks\n",
       "0   000002\n",
       "1   123067\n",
       "2   123070\n",
       "3   127018\n",
       "4   127019\n",
       "..     ...\n",
       "81  127027\n",
       "82  123085\n",
       "83  113569\n",
       "84  128100\n",
       "85  128062\n",
       "\n",
       "[86 rows x 1 columns]"
      ]
     },
     "execution_count": 13,
     "metadata": {},
     "output_type": "execute_result"
    }
   ],
   "source": [
    "acct"
   ]
  },
  {
   "cell_type": "code",
   "execution_count": 14,
   "metadata": {},
   "outputs": [],
   "source": [
    "acct['CODE']=acct['Stocks']"
   ]
  },
  {
   "cell_type": "code",
   "execution_count": 15,
   "metadata": {},
   "outputs": [],
   "source": [
    "import json\n",
    "import requests\n",
    "import csv\n",
    "import re\n",
    "from lxml import etree\n",
    "newUrl =\"https://www.jisilu.cn/data/cbnew/cb_list/?___jsl=LST___t=1584777951900\"\n",
    "#最简单的爬虫请求.也可以加上headers字段，防止部分网址的反爬虫机制\n",
    "response = requests.get(newUrl)\n",
    "#当爬取的界面需要用户名密码登录时候，构建的请求需要包含auth字段\n",
    "data = response.content.decode(\"utf-8\")\n",
    "dat = json.loads(data)\n",
    "\n",
    "tbl=pd.DataFrame([row['cell'] for row in dat['rows']])\n",
    "tbl['force_redeem']=tbl['force_redeem'].fillna('')\n",
    "redeem=tbl[(tbl['force_redeem']!='')&(-tbl['force_redeem'].str.contains('不行使'))][['bond_id','bond_nm','force_redeem']\n",
    "                                                                                ].copy()"
   ]
  },
  {
   "cell_type": "code",
   "execution_count": 16,
   "metadata": {},
   "outputs": [],
   "source": [
    "redeem=tbl[(tbl['force_redeem']!='')&(-tbl['force_redeem'].str.contains('不行使'))][['bond_id','bond_nm','force_redeem']\n",
    "                                                                                ].copy()"
   ]
  },
  {
   "cell_type": "code",
   "execution_count": 17,
   "metadata": {},
   "outputs": [
    {
     "data": {
      "text/plain": [
       "array(['隆20转债', '明阳转债', '奥瑞转债', '凯龙转债', '红相转债'], dtype=object)"
      ]
     },
     "execution_count": 17,
     "metadata": {},
     "output_type": "execute_result"
    }
   ],
   "source": [
    "redeem['bond_nm'].unique()"
   ]
  },
  {
   "cell_type": "code",
   "execution_count": 18,
   "metadata": {},
   "outputs": [
    {
     "data": {
      "text/plain": [
       "5"
      ]
     },
     "execution_count": 18,
     "metadata": {},
     "output_type": "execute_result"
    }
   ],
   "source": [
    "len(redeem['bond_nm'].unique())"
   ]
  },
  {
   "cell_type": "code",
   "execution_count": 19,
   "metadata": {},
   "outputs": [
    {
     "data": {
      "text/html": [
       "<div>\n",
       "<style scoped>\n",
       "    .dataframe tbody tr th:only-of-type {\n",
       "        vertical-align: middle;\n",
       "    }\n",
       "\n",
       "    .dataframe tbody tr th {\n",
       "        vertical-align: top;\n",
       "    }\n",
       "\n",
       "    .dataframe thead th {\n",
       "        text-align: right;\n",
       "    }\n",
       "</style>\n",
       "<table border=\"1\" class=\"dataframe\">\n",
       "  <thead>\n",
       "    <tr style=\"text-align: right;\">\n",
       "      <th></th>\n",
       "      <th>bond_id</th>\n",
       "      <th>bond_nm</th>\n",
       "      <th>force_redeem</th>\n",
       "      <th>Stocks</th>\n",
       "      <th>CODE</th>\n",
       "    </tr>\n",
       "  </thead>\n",
       "  <tbody>\n",
       "  </tbody>\n",
       "</table>\n",
       "</div>"
      ],
      "text/plain": [
       "Empty DataFrame\n",
       "Columns: [bond_id, bond_nm, force_redeem, Stocks, CODE]\n",
       "Index: []"
      ]
     },
     "execution_count": 19,
     "metadata": {},
     "output_type": "execute_result"
    }
   ],
   "source": [
    "checkredeem=pd.merge(redeem,acct,\n",
    "        how='left',\n",
    "        left_on='bond_id',\n",
    "        right_on='CODE')\n",
    "checkredeem[-checkredeem['CODE'].isnull()]"
   ]
  },
  {
   "cell_type": "code",
   "execution_count": 20,
   "metadata": {},
   "outputs": [
    {
     "data": {
      "text/html": [
       "<div>\n",
       "<style scoped>\n",
       "    .dataframe tbody tr th:only-of-type {\n",
       "        vertical-align: middle;\n",
       "    }\n",
       "\n",
       "    .dataframe tbody tr th {\n",
       "        vertical-align: top;\n",
       "    }\n",
       "\n",
       "    .dataframe thead th {\n",
       "        text-align: right;\n",
       "    }\n",
       "</style>\n",
       "<table border=\"1\" class=\"dataframe\">\n",
       "  <thead>\n",
       "    <tr style=\"text-align: right;\">\n",
       "      <th></th>\n",
       "      <th>bond_id</th>\n",
       "      <th>bond_nm</th>\n",
       "      <th>force_redeem</th>\n",
       "    </tr>\n",
       "  </thead>\n",
       "  <tbody>\n",
       "    <tr>\n",
       "      <th>7</th>\n",
       "      <td>113038</td>\n",
       "      <td>隆20转债</td>\n",
       "      <td>最后交易日：2021年3月30日\\r\\n最后转股日：2021年3月30日\\r\\n赎回价：10...</td>\n",
       "    </tr>\n",
       "    <tr>\n",
       "      <th>8</th>\n",
       "      <td>113029</td>\n",
       "      <td>明阳转债</td>\n",
       "      <td>最后交易日：2021年3月18日\\r\\n最后转股日：2021年3月18日\\r\\n赎回价：10...</td>\n",
       "    </tr>\n",
       "    <tr>\n",
       "      <th>36</th>\n",
       "      <td>128096</td>\n",
       "      <td>奥瑞转债</td>\n",
       "      <td>2020年11月18日公告：本次（2020年9月28日至2020年11月16日）不提前赎回奥...</td>\n",
       "    </tr>\n",
       "    <tr>\n",
       "      <th>178</th>\n",
       "      <td>128052</td>\n",
       "      <td>凯龙转债</td>\n",
       "      <td>最后交易日：2021年3月23日\\r\\n最后转股日：2021年3月23日\\r\\n赎回价：10...</td>\n",
       "    </tr>\n",
       "    <tr>\n",
       "      <th>255</th>\n",
       "      <td>123044</td>\n",
       "      <td>红相转债</td>\n",
       "      <td>2020年11月10日公告，本次（2020年10月19日至2020年11月10日）不提前赎回...</td>\n",
       "    </tr>\n",
       "  </tbody>\n",
       "</table>\n",
       "</div>"
      ],
      "text/plain": [
       "    bond_id bond_nm                                       force_redeem\n",
       "7    113038   隆20转债  最后交易日：2021年3月30日\\r\\n最后转股日：2021年3月30日\\r\\n赎回价：10...\n",
       "8    113029    明阳转债  最后交易日：2021年3月18日\\r\\n最后转股日：2021年3月18日\\r\\n赎回价：10...\n",
       "36   128096    奥瑞转债  2020年11月18日公告：本次（2020年9月28日至2020年11月16日）不提前赎回奥...\n",
       "178  128052    凯龙转债  最后交易日：2021年3月23日\\r\\n最后转股日：2021年3月23日\\r\\n赎回价：10...\n",
       "255  123044    红相转债  2020年11月10日公告，本次（2020年10月19日至2020年11月10日）不提前赎回..."
      ]
     },
     "execution_count": 20,
     "metadata": {},
     "output_type": "execute_result"
    }
   ],
   "source": [
    "redeem"
   ]
  },
  {
   "cell_type": "code",
   "execution_count": 21,
   "metadata": {},
   "outputs": [
    {
     "data": {
      "text/html": [
       "<div>\n",
       "<style scoped>\n",
       "    .dataframe tbody tr th:only-of-type {\n",
       "        vertical-align: middle;\n",
       "    }\n",
       "\n",
       "    .dataframe tbody tr th {\n",
       "        vertical-align: top;\n",
       "    }\n",
       "\n",
       "    .dataframe thead th {\n",
       "        text-align: right;\n",
       "    }\n",
       "</style>\n",
       "<table border=\"1\" class=\"dataframe\">\n",
       "  <thead>\n",
       "    <tr style=\"text-align: right;\">\n",
       "      <th></th>\n",
       "      <th>bond_nm</th>\n",
       "      <th>force_redeem</th>\n",
       "    </tr>\n",
       "  </thead>\n",
       "  <tbody>\n",
       "    <tr>\n",
       "      <th>7</th>\n",
       "      <td>隆20转债</td>\n",
       "      <td>最后交易日：2021年3月30日\\r\\n最后转股日：2021年3月30日\\r\\n赎回价：10...</td>\n",
       "    </tr>\n",
       "    <tr>\n",
       "      <th>8</th>\n",
       "      <td>明阳转债</td>\n",
       "      <td>最后交易日：2021年3月18日\\r\\n最后转股日：2021年3月18日\\r\\n赎回价：10...</td>\n",
       "    </tr>\n",
       "    <tr>\n",
       "      <th>36</th>\n",
       "      <td>奥瑞转债</td>\n",
       "      <td>2020年11月18日公告：本次（2020年9月28日至2020年11月16日）不提前赎回奥...</td>\n",
       "    </tr>\n",
       "    <tr>\n",
       "      <th>178</th>\n",
       "      <td>凯龙转债</td>\n",
       "      <td>最后交易日：2021年3月23日\\r\\n最后转股日：2021年3月23日\\r\\n赎回价：10...</td>\n",
       "    </tr>\n",
       "    <tr>\n",
       "      <th>255</th>\n",
       "      <td>红相转债</td>\n",
       "      <td>2020年11月10日公告，本次（2020年10月19日至2020年11月10日）不提前赎回...</td>\n",
       "    </tr>\n",
       "  </tbody>\n",
       "</table>\n",
       "</div>"
      ],
      "text/plain": [
       "    bond_nm                                       force_redeem\n",
       "7     隆20转债  最后交易日：2021年3月30日\\r\\n最后转股日：2021年3月30日\\r\\n赎回价：10...\n",
       "8      明阳转债  最后交易日：2021年3月18日\\r\\n最后转股日：2021年3月18日\\r\\n赎回价：10...\n",
       "36     奥瑞转债  2020年11月18日公告：本次（2020年9月28日至2020年11月16日）不提前赎回奥...\n",
       "178    凯龙转债  最后交易日：2021年3月23日\\r\\n最后转股日：2021年3月23日\\r\\n赎回价：10...\n",
       "255    红相转债  2020年11月10日公告，本次（2020年10月19日至2020年11月10日）不提前赎回..."
      ]
     },
     "execution_count": 21,
     "metadata": {},
     "output_type": "execute_result"
    }
   ],
   "source": [
    "tbl[(-tbl['force_redeem'].str.contains('不行使'))&(tbl['force_redeem']!='')][['bond_nm','force_redeem']]"
   ]
  },
  {
   "cell_type": "code",
   "execution_count": null,
   "metadata": {},
   "outputs": [],
   "source": []
  }
 ],
 "metadata": {
  "kernelspec": {
   "display_name": "Python 3",
   "language": "python",
   "name": "python3"
  },
  "language_info": {
   "codemirror_mode": {
    "name": "ipython",
    "version": 3
   },
   "file_extension": ".py",
   "mimetype": "text/x-python",
   "name": "python",
   "nbconvert_exporter": "python",
   "pygments_lexer": "ipython3",
   "version": "3.6.9"
  }
 },
 "nbformat": 4,
 "nbformat_minor": 4
}
